{
 "cells": [
  {
   "cell_type": "markdown",
   "metadata": {},
   "source": [
    "# Informe EDA\n",
    "\n",
    "## Introducción\n",
    "El análisis exploratorio de datos (EDA) es una etapa fundamental en cualquier proyecto de ciencia de datos. En este notebook, se realiza un análisis detallado de dos datasets relacionados con películas:\n",
    "\n",
    "- **`movies_dataset`**: Contiene información sobre las películas, como título, fecha de lanzamiento, presupuesto, ingresos, popularidad y más.\n",
    "- **`credits`**: Incluye detalles sobre el reparto y equipo técnico, como directores y actores.\n",
    "\n",
    "El objetivo de este EDA es comprender la estructura y calidad de los datos, identificar patrones y limpiar los datasets para su posterior uso en modelos de machine learning o sistemas de recomendación."
   ]
  },
  {
   "cell_type": "markdown",
   "metadata": {},
   "source": [
    "## Contexto del Análisis\n",
    "Como parte del proyecto, se requería realizar transformaciones obligatorias en los *datasets* originales. Además, las funciones implementadas para el proyecto utilizan solo una parte específica de la información disponible. Por esta razón, el análisis exploratorio se realiza después de aplicar estas transformaciones iniciales. Esto permite enfocarse únicamente en los datos relevantes y depurados, asegurando que los resultados del EDA sean representativos de los registros que se utilizarán en el modelo final."
   ]
  },
  {
   "cell_type": "markdown",
   "metadata": {},
   "source": [
    "## Transformaciones obligatorias\n",
    "*forman parte del ETL1*"
   ]
  },
  {
   "cell_type": "code",
   "execution_count": 1,
   "metadata": {},
   "outputs": [],
   "source": [
    "import pandas as pd\n",
    "import numpy as np\n",
    "import ast"
   ]
  },
  {
   "cell_type": "code",
   "execution_count": 2,
   "metadata": {},
   "outputs": [],
   "source": [
    "# Cargar los datasets\n",
    "movies_path = r\"C:\\Users\\paula\\OneDrive\\Curso\\Henry\\Proyecto Individual\\Movies\\movies_dataset.csv\"\n",
    "credits_path = r\"C:\\Users\\paula\\OneDrive\\Curso\\Henry\\Proyecto Individual\\Movies\\credits.csv\"\n",
    "\n",
    "movies = pd.read_csv(movies_path, low_memory=False)\n",
    "credits = pd.read_csv(credits_path, low_memory=False)"
   ]
  },
  {
   "cell_type": "markdown",
   "metadata": {},
   "source": [
    "### Procesamiento del Dataset movies_dataset.csv\n",
    "#### Cálculo del Retorno de Inversión (`return`):"
   ]
  },
  {
   "cell_type": "code",
   "execution_count": 3,
   "metadata": {},
   "outputs": [],
   "source": [
    "# Asegurar que 'revenue' y 'budget' son numéricos y reemplazar nulos por 0\n",
    "movies['revenue'] = pd.to_numeric(movies['revenue'], errors='coerce').fillna(0)\n",
    "movies['budget'] = pd.to_numeric(movies['budget'], errors='coerce').fillna(0)\n",
    "\n",
    "# Calcular 'return'\n",
    "movies['return'] = np.where(movies['budget'] == 0, 0, movies['revenue'] / movies['budget'])\n",
    "\n",
    "# Reemplazar divisiones por cero o valores nulos directamente\n",
    "movies['return'] = movies['return'].replace([np.inf, np.nan], 0)\n"
   ]
  },
  {
   "cell_type": "markdown",
   "metadata": {},
   "source": [
    "#### Procesamiento de Fechas (`release_date`):\n",
    "\n",
    "- Las fechas de lanzamiento se transformaron al formato *datetime*.\n",
    "- Se crearon las columnas:\n",
    "    - `release_year`: Año de lanzamiento.\n",
    "    - `release_month`: Mes de lanzamiento.\n",
    "    - `release_dow`: Día de la semana de lanzamiento.\n",
    "- Se eliminaron los registros sin año válido."
   ]
  },
  {
   "cell_type": "code",
   "execution_count": 4,
   "metadata": {},
   "outputs": [],
   "source": [
    "# Convertir release_date al formato datetime y manejar errores\n",
    "movies['release_date'] = pd.to_datetime(movies['release_date'], errors='coerce')\n",
    "\n",
    "# Crear la columna release_year extrayendo el año\n",
    "movies['release_year'] = movies['release_date'].dt.year\n",
    "\n",
    "# Crear la columna release_month extrayendo el mes\n",
    "movies['release_month'] = movies['release_date'].dt.month\n",
    "\n",
    "# Crear la columna release_dow extrayendo el dia de la semana\n",
    "movies['release_dow'] = movies['release_date'].dt.day_of_week\n",
    "\n",
    "# Eliminar aquellos registros que quedaron nulos\n",
    "movies = movies[movies['release_year'].notnull()]"
   ]
  },
  {
   "cell_type": "markdown",
   "metadata": {},
   "source": [
    "#### Eliminación de Columnas Irrelevantes:\n",
    "Las funciones que se utilizaran: `belongs_to_collection`, `budget`, `genres`, `id`, `popularity`, `release_date`, `title`, `vote_average`, `vote_count`, `return`, `release_year`, `release_month`, `release_dow`\n",
    "\n",
    "Se eliminaron columnas redundantes o no utilizadas."
   ]
  },
  {
   "cell_type": "code",
   "execution_count": 5,
   "metadata": {},
   "outputs": [],
   "source": [
    "movies = movies.drop(columns=['video', 'imdb_id', 'adult', 'original_title', 'poster_path', 'homepage', 'spoken_languages', 'production_countries', 'belongs_to_collection', 'production_companies', 'original_language','tagline', 'genres', 'overview', 'runtime', 'status'], errors='ignore')"
   ]
  },
  {
   "cell_type": "markdown",
   "metadata": {},
   "source": [
    "#### Valores únicos de títulos de películas\n",
    "La función de recomendación se realiza a partir del título de la película, por lo tanto no pueden estar duplicados. "
   ]
  },
  {
   "cell_type": "code",
   "execution_count": 6,
   "metadata": {},
   "outputs": [
    {
     "name": "stdout",
     "output_type": "stream",
     "text": [
      "title\n",
      "Cinderella              11\n",
      "Hamlet                   9\n",
      "Alice in Wonderland      9\n",
      "Beauty and the Beast     8\n",
      "Les Misérables           8\n",
      "                        ..\n",
      "The Burkittsville 7      1\n",
      "Caged Heat 3000          1\n",
      "Century of Birthing      1\n",
      "Satan Triumphant         1\n",
      "Mighty Aphrodite         1\n",
      "Name: count, Length: 42196, dtype: int64\n"
     ]
    }
   ],
   "source": [
    "# Verificar los valores únicos y su cantidad de apariciones\n",
    "conteo_titulos = movies['title'].value_counts()\n",
    "\n",
    "# Mostrar los resultados\n",
    "print(conteo_titulos)\n"
   ]
  },
  {
   "cell_type": "markdown",
   "metadata": {},
   "source": [
    "Dado que hay muchos títulos duplicados, dejo uno solo, aquel que tenga la mayor *popularidad*"
   ]
  },
  {
   "cell_type": "code",
   "execution_count": 7,
   "metadata": {},
   "outputs": [],
   "source": [
    "# Eliminar duplicados de \"title\" conservando el registro con mayor popularidad\n",
    "movies = movies.sort_values(by='popularity', ascending=False)  # Ordenar por popularidad\n",
    "movies = movies.drop_duplicates(subset=['title'], keep='first')  # Eliminar duplicados conservando el primero (el de mayor popularidad)"
   ]
  },
  {
   "cell_type": "markdown",
   "metadata": {},
   "source": [
    "### Procesamiento del Dataset `credits.csv`\n",
    "\n",
    "#### Extracción de Directores (`crew`):\n",
    "De la columna `crew` solo es necesario el nombre del director, se extrae solo esa información en una nueva columna"
   ]
  },
  {
   "cell_type": "code",
   "execution_count": 8,
   "metadata": {},
   "outputs": [],
   "source": [
    "# Convertir la columna `crew` en listas de diccionarios\n",
    "credits['crew'] = credits['crew'].apply(lambda x: ast.literal_eval(x) if isinstance(x, str) else x)\n",
    "\n",
    "# Extraer el nombre de los directores\n",
    "credits['director_name'] = credits['crew'].apply(\n",
    "    lambda x: next((person['name'] for person in x if person.get('job') == 'Director'), None)\n",
    ")"
   ]
  },
  {
   "cell_type": "markdown",
   "metadata": {},
   "source": [
    "### Extracción de Actores (`cast`):\n",
    "Se crea una nueva columna `actors` donde se almacena una lista de los actores que participan en la película"
   ]
  },
  {
   "cell_type": "code",
   "execution_count": 9,
   "metadata": {},
   "outputs": [],
   "source": [
    "# Convertir la columna `cast` en listas de diccionarios\n",
    "credits['cast'] = credits['cast'].apply(lambda x: ast.literal_eval(x) if isinstance(x, str) else x)\n",
    "\n",
    "# Extraer los nombres de todos los actores en una lista\n",
    "credits['actors'] = credits['cast'].apply(\n",
    "    lambda x: [actor['name'] for actor in x] if isinstance(x, list) else []\n",
    ")"
   ]
  },
  {
   "cell_type": "code",
   "execution_count": 10,
   "metadata": {},
   "outputs": [],
   "source": [
    "# Convertir listas y otros tipos no hasheables a cadenas para encontrar duplicados\n",
    "credits['actors'] = credits['actors'].apply(str)"
   ]
  },
  {
   "cell_type": "markdown",
   "metadata": {},
   "source": [
    "### Comparo los tamaños de los datasets. \n",
    "Deberían ser iguales, si cada película identificada por un id en el dataset `movies` tiene un id en `credits`"
   ]
  },
  {
   "cell_type": "code",
   "execution_count": 11,
   "metadata": {},
   "outputs": [
    {
     "name": "stdout",
     "output_type": "stream",
     "text": [
      "Dimensiones de movies_dataset: (42196, 12)\n",
      "Dimensiones de credits: (45476, 5)\n"
     ]
    }
   ],
   "source": [
    "# Tamaño de los datasets\n",
    "print(\"Dimensiones de movies_dataset:\", movies.shape)\n",
    "print(\"Dimensiones de credits:\", credits.shape)"
   ]
  },
  {
   "cell_type": "code",
   "execution_count": 12,
   "metadata": {},
   "outputs": [
    {
     "name": "stdout",
     "output_type": "stream",
     "text": [
      "Dimensiones después de eliminar duplicados en credits: (45439, 5)\n"
     ]
    }
   ],
   "source": [
    "# Convertir listas y otros tipos no hasheables a cadenas para encontrar duplicados\n",
    "for col in ['actors', 'director_name', 'cast', 'crew']:\n",
    "    credits[col] = credits[col].astype(str)\n",
    "\n",
    "# Eliminar duplicados en credits considerando todas las columnas\n",
    "credits = credits.drop_duplicates()\n",
    "\n",
    "# Verificar dimensiones después de eliminar duplicados\n",
    "print(\"Dimensiones después de eliminar duplicados en credits:\", credits.shape)\n"
   ]
  },
  {
   "cell_type": "code",
   "execution_count": 13,
   "metadata": {},
   "outputs": [
    {
     "name": "stdout",
     "output_type": "stream",
     "text": [
      "Dimensiones originales de credits: (45439, 5)\n",
      "Dimensiones después del filtrado: (42201, 5)\n"
     ]
    }
   ],
   "source": [
    "# Convertir ambos Ids a string para asegurarse de que coincidan\n",
    "movies['id'] = movies['id'].astype(str)\n",
    "credits['id'] = credits['id'].astype(str)\n",
    "\n",
    "# Filtrar registros de 'credits' que estén en 'movies'\n",
    "credits_filtrado = credits[credits['id'].isin(movies['id'])]\n",
    "\n",
    "# Verificar dimensiones después del filtrado\n",
    "print(\"Dimensiones originales de credits:\", credits.shape)\n",
    "print(\"Dimensiones después del filtrado:\", credits_filtrado.shape)\n",
    "\n",
    "# Reemplazar el dataset original por el filtrado, si es necesario\n",
    "credits = credits_filtrado\n",
    "\n",
    "# Crear un nuevo DataFrame reducido\n",
    "credits = credits[['id', 'director_name', 'actors']]\n",
    "\n"
   ]
  },
  {
   "cell_type": "markdown",
   "metadata": {},
   "source": [
    "## Verificar los *datasets*"
   ]
  },
  {
   "cell_type": "code",
   "execution_count": 23,
   "metadata": {},
   "outputs": [
    {
     "name": "stdout",
     "output_type": "stream",
     "text": [
      "Columnas de movies_dataset:\n",
      "['budget', 'id', 'popularity', 'release_date', 'revenue', 'title', 'vote_average', 'vote_count', 'return', 'release_year', 'release_month', 'release_dow']\n",
      "\n",
      "Columnas de credits:\n",
      "['id', 'director_name', 'actors']\n"
     ]
    }
   ],
   "source": [
    "# Nombres de las columnas\n",
    "print(\"Columnas de movies_dataset:\")\n",
    "print(movies.columns.tolist())\n",
    "print(\"\\nColumnas de credits:\")\n",
    "print(credits.columns.tolist())"
   ]
  },
  {
   "cell_type": "code",
   "execution_count": 15,
   "metadata": {},
   "outputs": [
    {
     "name": "stdout",
     "output_type": "stream",
     "text": [
      "Tipos de datos de movies_dataset:\n",
      "budget                  float64\n",
      "id                       object\n",
      "popularity               object\n",
      "release_date     datetime64[ns]\n",
      "revenue                 float64\n",
      "title                    object\n",
      "vote_average            float64\n",
      "vote_count              float64\n",
      "return                  float64\n",
      "release_year            float64\n",
      "release_month           float64\n",
      "release_dow             float64\n",
      "dtype: object\n",
      "\n",
      "Tipos de datos de credits:\n",
      "id               object\n",
      "director_name    object\n",
      "actors           object\n",
      "dtype: object\n"
     ]
    }
   ],
   "source": [
    "# Tipos de datos\n",
    "print(\"Tipos de datos de movies_dataset:\")\n",
    "print(movies.dtypes)\n",
    "print(\"\\nTipos de datos de credits:\")\n",
    "print(credits.dtypes)"
   ]
  },
  {
   "cell_type": "code",
   "execution_count": 16,
   "metadata": {},
   "outputs": [
    {
     "name": "stdout",
     "output_type": "stream",
     "text": [
      "Valores nulos en movies_dataset:\n",
      "budget           0\n",
      "id               0\n",
      "popularity       0\n",
      "release_date     0\n",
      "revenue          0\n",
      "title            0\n",
      "vote_average     0\n",
      "vote_count       0\n",
      "return           0\n",
      "release_year     0\n",
      "release_month    0\n",
      "release_dow      0\n",
      "dtype: int64\n",
      "\n",
      "Valores nulos en credits:\n",
      "id               0\n",
      "director_name    0\n",
      "actors           0\n",
      "dtype: int64\n"
     ]
    }
   ],
   "source": [
    "# Valores nulos\n",
    "print(\"Valores nulos en movies_dataset:\")\n",
    "print(movies.isnull().sum())\n",
    "print(\"\\nValores nulos en credits:\")\n",
    "print(credits.isnull().sum())"
   ]
  },
  {
   "cell_type": "code",
   "execution_count": 24,
   "metadata": {},
   "outputs": [
    {
     "name": "stdout",
     "output_type": "stream",
     "text": [
      "Registros duplicados en movies_dataset: 0\n",
      "Registros duplicados en credits: 0\n"
     ]
    }
   ],
   "source": [
    "# Eliminar duplicados en credits considerando todas las columnas\n",
    "credits = credits.drop_duplicates()\n",
    "\n",
    "# Duplicados\n",
    "print(\"Registros duplicados en movies_dataset:\", movies.duplicated().sum())\n",
    "print(\"Registros duplicados en credits:\", credits.duplicated().sum())"
   ]
  },
  {
   "cell_type": "markdown",
   "metadata": {},
   "source": [
    "# Resumen estadístico para `movies`"
   ]
  },
  {
   "cell_type": "code",
   "execution_count": 18,
   "metadata": {},
   "outputs": [
    {
     "name": "stdout",
     "output_type": "stream",
     "text": [
      "Resumen estadístico para movies:\n",
      "             budget                   release_date       revenue  \\\n",
      "count  4.219600e+04                          42196  4.219600e+04   \n",
      "mean   4.274496e+06  1992-10-19 12:29:04.544506496  1.131161e+07   \n",
      "min    0.000000e+00            1874-12-09 00:00:00  0.000000e+00   \n",
      "25%    0.000000e+00            1979-06-30 06:00:00  0.000000e+00   \n",
      "50%    0.000000e+00            2001-12-14 00:00:00  0.000000e+00   \n",
      "75%    0.000000e+00            2011-02-04 00:00:00  0.000000e+00   \n",
      "max    3.800000e+08            2020-12-16 00:00:00  2.787965e+09   \n",
      "std    1.743748e+07                            NaN  6.384198e+07   \n",
      "\n",
      "       vote_average    vote_count        return  release_year  release_month  \\\n",
      "count  42196.000000  42196.000000  4.219600e+04  42196.000000    42196.00000   \n",
      "mean       5.634115    111.413262  7.097344e+02   1992.310693        6.45573   \n",
      "min        0.000000      0.000000  0.000000e+00   1874.000000        1.00000   \n",
      "25%        5.000000      3.000000  0.000000e+00   1979.000000        3.00000   \n",
      "50%        6.000000     10.000000  0.000000e+00   2001.000000        7.00000   \n",
      "75%        6.800000     36.000000  0.000000e+00   2011.000000       10.00000   \n",
      "max       10.000000  14075.000000  1.239638e+07   2020.000000       12.00000   \n",
      "std        1.908865    493.195507  7.745655e+04     23.764478        3.62562   \n",
      "\n",
      "        release_dow  \n",
      "count  42196.000000  \n",
      "mean       3.181937  \n",
      "min        0.000000  \n",
      "25%        2.000000  \n",
      "50%        4.000000  \n",
      "75%        4.000000  \n",
      "max        6.000000  \n",
      "std        1.640077  \n"
     ]
    }
   ],
   "source": [
    "print(\"Resumen estadístico para movies:\")\n",
    "print(movies.describe())"
   ]
  },
  {
   "cell_type": "markdown",
   "metadata": {},
   "source": [
    "## Análisis de la fecha de estreno de las películas"
   ]
  },
  {
   "cell_type": "code",
   "execution_count": 19,
   "metadata": {},
   "outputs": [
    {
     "data": {
      "image/png": "[encoded data removed]",
      "text/plain": [
       "<Figure size 1200x600 with 1 Axes>"
      ]
     },
     "metadata": {},
     "output_type": "display_data"
    }
   ],
   "source": [
    "import matplotlib.pyplot as plt\n",
    "\n",
    "# Agrupar por año y contar la cantidad de películas\n",
    "peliculas_por_anio = movies['release_year'].value_counts().sort_index()\n",
    "\n",
    "# Graficar\n",
    "plt.figure(figsize=(12, 6))  # Aumentar el tamaño de la figura\n",
    "plt.bar(peliculas_por_anio.index, peliculas_por_anio.values, width=0.8, alpha=0.7)\n",
    "\n",
    "# Configurar etiquetas\n",
    "plt.title(\"Distribución de películas por año de lanzamiento\")\n",
    "plt.xlabel(\"Año\")\n",
    "plt.ylabel(\"Cantidad de películas\")\n",
    "\n",
    "# Mostrar el gráfico\n",
    "plt.show()\n"
   ]
  },
  {
   "cell_type": "markdown",
   "metadata": {},
   "source": [
    "**Conclusión sobre el año de lanzamiento**: si bien existen películas en los datasets que fueron estrenadas antes de 1900, a partir del '30 comenzó lentamente a aumentar este número con una explosión después del 2000."
   ]
  },
  {
   "cell_type": "markdown",
   "metadata": {},
   "source": [
    "## Análisis de la popularidad de las películas"
   ]
  },
  {
   "cell_type": "code",
   "execution_count": 20,
   "metadata": {},
   "outputs": [
    {
     "data": {
      "image/png": "[encoded data removed]",
      "text/plain": [
       "<Figure size 1000x600 with 1 Axes>"
      ]
     },
     "metadata": {},
     "output_type": "display_data"
    }
   ],
   "source": [
    "movies['popularity'] = movies['popularity'].astype(float)\n",
    "\n",
    "\n",
    "plt.figure(figsize=(10, 6))\n",
    "movies['popularity'].plot(kind='hist', bins=50, alpha=0.7)\n",
    "plt.title(\"Distribución de la popularidad de películas\")\n",
    "plt.xlabel(\"Popularidad\")\n",
    "plt.ylabel(\"Frecuencia\")\n",
    "plt.show()\n"
   ]
  },
  {
   "cell_type": "code",
   "execution_count": 21,
   "metadata": {},
   "outputs": [
    {
     "name": "stdout",
     "output_type": "stream",
     "text": [
      "Top 5 películas más populares:\n",
      "                                title  popularity\n",
      "30700                         Minions  547.488298\n",
      "43644                     Baby Driver  228.032744\n",
      "24455                      Big Hero 6  213.849907\n",
      "26564                        Deadpool  187.860492\n",
      "26566  Guardians of the Galaxy Vol. 2  185.330992\n"
     ]
    }
   ],
   "source": [
    "print(\"Top 5 películas más populares:\")\n",
    "print(movies[['title', 'popularity']].sort_values(by='popularity', ascending=False).head(5))\n"
   ]
  },
  {
   "cell_type": "markdown",
   "metadata": {},
   "source": [
    "**Conclusión de la popularidad:** La mayoría de las peliculas tienen un cero en popularidad, pero hay algunas muy taquilleras que llegan a tener una popularidad mayor a 150."
   ]
  },
  {
   "cell_type": "markdown",
   "metadata": {},
   "source": [
    "## Análisis de la filmación de películas por parte de los directores"
   ]
  },
  {
   "cell_type": "code",
   "execution_count": 22,
   "metadata": {},
   "outputs": [
    {
     "data": {
      "image/png": "[encoded data removed]",
      "text/plain": [
       "<Figure size 1000x600 with 1 Axes>"
      ]
     },
     "metadata": {},
     "output_type": "display_data"
    }
   ],
   "source": [
    "top_directors = credits['director_name'].value_counts().head(10)\n",
    "top_directors.plot(kind='barh', figsize=(10, 6), color='skyblue')\n",
    "plt.title(\"Top 10 Directores con más películas\")\n",
    "plt.xlabel(\"Cantidad de películas\")\n",
    "plt.ylabel(\"Directores\")\n",
    "plt.show()"
   ]
  },
  {
   "cell_type": "code",
   "execution_count": 28,
   "metadata": {},
   "outputs": [
    {
     "data": {
      "text/plain": [
       "director_name\n",
       "None                  805\n",
       "John Ford              62\n",
       "Michael Curtiz         60\n",
       "Werner Herzog          53\n",
       "Woody Allen            48\n",
       "                     ... \n",
       "Todd Grimes             1\n",
       "Pat Healy               1\n",
       "Konkona Sen Sharma      1\n",
       "Anshai Lal              1\n",
       "Sergey Chekalov         1\n",
       "Name: count, Length: 16842, dtype: int64"
      ]
     },
     "execution_count": 28,
     "metadata": {},
     "output_type": "execute_result"
    }
   ],
   "source": [
    "credits['director_name'].value_counts()"
   ]
  },
  {
   "cell_type": "code",
   "execution_count": 42,
   "metadata": {},
   "outputs": [
    {
     "data": {
      "text/plain": [
       "director_name\n",
       "None                   805\n",
       "John Ford               62\n",
       "Michael Curtiz          60\n",
       "Werner Herzog           53\n",
       "Woody Allen             48\n",
       "                      ... \n",
       "Brian Miller             1\n",
       "Carl Lindbergh           1\n",
       "Jack Lewis               1\n",
       "Kazuhisa Takenouchi      1\n",
       "Chuck Patton             1\n",
       "Name: count, Length: 7000, dtype: int64"
      ]
     },
     "execution_count": 42,
     "metadata": {},
     "output_type": "execute_result"
    }
   ],
   "source": [
    "credits['director_name'].value_counts().head(7000)"
   ]
  },
  {
   "cell_type": "markdown",
   "metadata": {},
   "source": [
    "**Conclusión sobre los directores:**\n",
    "\n",
    "- El dataset incluye 805 películas que no tienen registrado el nombre del director. Estas películas se mantienen en el dataset para preservar la información restante, ya que la ausencia del director solo afecta a la funcionalidad de la función `get_director`.\n",
    "- Se identificaron un total de 16,842 directores responsables de aproximadamente 42,000 películas. Sin embargo, menos de la mitad de estos directores han filmado más de dos películas. Esto significa que más de la mitad de los directores en el dataset han dirigido únicamente una película, lo que refleja una alta proporción de directores con una participación limitada en el dataset."
   ]
  }
 ],
 "metadata": {
  "kernelspec": {
   "display_name": "Python 3",
   "language": "python",
   "name": "python3"
  },
  "language_info": {
   "codemirror_mode": {
    "name": "ipython",
    "version": 3
   },
   "file_extension": ".py",
   "mimetype": "text/x-python",
   "name": "python",
   "nbconvert_exporter": "python",
   "pygments_lexer": "ipython3",
   "version": "3.13.1"
  }
 },
 "nbformat": 4,
 "nbformat_minor": 2
}

{
 "cells": [
  {
   "cell_type": "markdown",
   "metadata": {},
   "source": [
    "# **ETL 1 - General**\n",
    "Se cargan las librerias y archivos necesarios"
   ]
  },
  {
   "cell_type": "code",
   "execution_count": 1,
   "metadata": {},
   "outputs": [],
   "source": [
    "import pandas as pd # type: ignore\n",
    "import numpy as np # type: ignore\n",
    "import ast\n",
    "from sklearn.preprocessing import LabelEncoder # type: ignore\n",
    "import pickle"
   ]
  },
  {
   "cell_type": "code",
   "execution_count": 2,
   "metadata": {},
   "outputs": [],
   "source": [
    "movies = pd.read_csv(r'C:\\Users\\paula\\OneDrive\\Curso\\Henry\\Proyecto Individual\\Movies\\movies_dataset.csv', low_memory=False)\n",
    "credits = pd.read_csv(r'C:\\Users\\paula\\OneDrive\\Curso\\Henry\\Proyecto Individual\\Movies\\credits.csv', low_memory=False)"
   ]
  },
  {
   "cell_type": "markdown",
   "metadata": {},
   "source": [
    "## **Procesamiento del Dataset `movies_dataset.csv`**"
   ]
  },
  {
   "cell_type": "markdown",
   "metadata": {},
   "source": [
    "1. **Cálculo del Retorno de Inversión (`return`)**:"
   ]
  },
  {
   "cell_type": "code",
   "execution_count": 3,
   "metadata": {},
   "outputs": [],
   "source": [
    "# Asegurar que 'revenue' y 'budget' son numéricos y reemplazar nulos por 0\n",
    "movies['revenue'] = pd.to_numeric(movies['revenue'], errors='coerce').fillna(0)\n",
    "movies['budget'] = pd.to_numeric(movies['budget'], errors='coerce').fillna(0)\n",
    "\n",
    "# Calcular 'return'\n",
    "movies['return'] = np.where(movies['budget'] == 0, 0, movies['revenue'] / movies['budget'])\n",
    "\n",
    "# Reemplazar divisiones por cero o valores nulos directamente\n",
    "movies['return'] = movies['return'].replace([np.inf, np.nan], 0)\n"
   ]
  },
  {
   "cell_type": "markdown",
   "metadata": {},
   "source": [
    "2. **Procesamiento de Fechas (`release_date`)**:"
   ]
  },
  {
   "cell_type": "code",
   "execution_count": 4,
   "metadata": {},
   "outputs": [],
   "source": [
    "# Convertir release_date al formato datetime y manejar errores\n",
    "movies['release_date'] = pd.to_datetime(movies['release_date'], errors='coerce')\n",
    "\n",
    "# Crear la columna release_year extrayendo el año\n",
    "movies['release_year'] = movies['release_date'].dt.year\n",
    "\n",
    "# Crear la columna release_month extrayendo el mes\n",
    "movies['release_month'] = movies['release_date'].dt.month\n",
    "\n",
    "# Crear la columna release_dow extrayendo el dia de la semana\n",
    "movies['release_dow'] = movies['release_date'].dt.day_of_week\n",
    "\n",
    "# Eliminar aquellos registros que quedaron nulos\n",
    "movies = movies[movies['release_year'].notnull()]"
   ]
  },
  {
   "cell_type": "markdown",
   "metadata": {},
   "source": [
    "3. **Extracción de Colecciones (`belongs_to_collection`)**:"
   ]
  },
  {
   "cell_type": "code",
   "execution_count": 5,
   "metadata": {},
   "outputs": [],
   "source": [
    "# Asegurar que los valores de la columna sean tratados como diccionarios\n",
    "movies['belongs_to_collection'] = movies['belongs_to_collection'].apply(\n",
    "    lambda x: ast.literal_eval(x) if isinstance(x, str) else x\n",
    ")\n",
    "\n",
    "# Extraer el nombre de la colección\n",
    "movies['collection'] = movies['belongs_to_collection'].apply(\n",
    "    lambda x: x['name'] if isinstance(x, dict) and 'name' in x else None\n",
    ")"
   ]
  },
  {
   "cell_type": "markdown",
   "metadata": {},
   "source": [
    "4. **Codificación de Géneros (`genres`)**:"
   ]
  },
  {
   "cell_type": "code",
   "execution_count": 6,
   "metadata": {},
   "outputs": [],
   "source": [
    "# Asegurar que los valores en la columna 'genres' sean listas de diccionarios\n",
    "movies['genres'] = movies['genres'].apply(lambda x: ast.literal_eval(x) if isinstance(x, str) else x)\n",
    "\n",
    "# Extraer todos los nombres únicos de los géneros\n",
    "all_genres = set()\n",
    "for genre_list in movies['genres']:\n",
    "    all_genres.update(genre['name'] for genre in genre_list)\n",
    "\n",
    "# Crear el LabelEncoder y ajustarlo con los nombres únicos de los géneros\n",
    "le = LabelEncoder()\n",
    "le.fit(list(all_genres))\n",
    "\n",
    "# Crear una nueva columna con los géneros codificados\n",
    "movies['genres_encoded'] = movies['genres'].apply(\n",
    "    lambda genre_list: le.transform([genre['name'] for genre in genre_list]).tolist()\n",
    ")"
   ]
  },
  {
   "cell_type": "markdown",
   "metadata": {},
   "source": [
    "5. **Eliminación de Columnas Irrelevantes para el proyecto**:"
   ]
  },
  {
   "cell_type": "code",
   "execution_count": 7,
   "metadata": {},
   "outputs": [],
   "source": [
    "movies = movies.drop(columns=['video', 'imdb_id', 'adult', 'original_title', 'poster_path', 'homepage', 'spoken_languages', 'production_countries', 'belongs_to_collection', 'production_companies', 'original_language','tagline', 'genres', 'overview', 'runtime', 'status'], errors='ignore')"
   ]
  },
  {
   "cell_type": "markdown",
   "metadata": {},
   "source": [
    "6. **Normalización y Eliminación de Duplicados**:"
   ]
  },
  {
   "cell_type": "code",
   "execution_count": 8,
   "metadata": {},
   "outputs": [],
   "source": [
    "movies['popularity'] = pd.to_numeric(movies['popularity'], errors='coerce')\n"
   ]
  },
  {
   "cell_type": "code",
   "execution_count": 9,
   "metadata": {},
   "outputs": [],
   "source": [
    "# Eliminar duplicados de \"title\" conservando el registro con mayor popularidad\n",
    "movies = movies.sort_values(by='popularity', ascending=False)  # Ordenar por popularidad\n",
    "movies = movies.drop_duplicates(subset=['title'], keep='first')  # Eliminar duplicados conservando el primero (el de mayor popularidad)"
   ]
  },
  {
   "cell_type": "markdown",
   "metadata": {},
   "source": [
    "7. **Guardado del Dataset Transformado**:"
   ]
  },
  {
   "cell_type": "code",
   "execution_count": 10,
   "metadata": {},
   "outputs": [],
   "source": [
    "# Guardar el dataset transformado\n",
    "movies.to_csv(r'../Datasets/transformed_movies.csv', index=False)"
   ]
  },
  {
   "cell_type": "markdown",
   "metadata": {},
   "source": [
    "## **Procesamiento del Dataset `credits.csv`**"
   ]
  },
  {
   "cell_type": "markdown",
   "metadata": {},
   "source": [
    "1. **Extracción de Directores (`crew`)**:"
   ]
  },
  {
   "cell_type": "code",
   "execution_count": 11,
   "metadata": {},
   "outputs": [],
   "source": [
    "# Convertir la columna `crew` en listas de diccionarios\n",
    "credits['crew'] = credits['crew'].apply(lambda x: ast.literal_eval(x) if isinstance(x, str) else x)\n",
    "\n",
    "# Extraer el nombre de los directores\n",
    "credits['director_name'] = credits['crew'].apply(\n",
    "    lambda x: next((person['name'] for person in x if person.get('job') == 'Director'), None)\n",
    ")"
   ]
  },
  {
   "cell_type": "markdown",
   "metadata": {},
   "source": [
    "2. **Extracción de Actores (`cast`)**:"
   ]
  },
  {
   "cell_type": "code",
   "execution_count": 12,
   "metadata": {},
   "outputs": [],
   "source": [
    "# Convertir la columna `cast` en listas de diccionarios\n",
    "credits['cast'] = credits['cast'].apply(lambda x: ast.literal_eval(x) if isinstance(x, str) else x)\n",
    "\n",
    "# Extraer los nombres de todos los actores en una lista\n",
    "credits['actors'] = credits['cast'].apply(\n",
    "    lambda x: [actor['name'] for actor in x] if isinstance(x, list) else []\n",
    ")"
   ]
  },
  {
   "cell_type": "markdown",
   "metadata": {},
   "source": [
    "3. **Eliminar todos los registros de `credits` que no esten en `movies`**"
   ]
  },
  {
   "cell_type": "code",
   "execution_count": 13,
   "metadata": {},
   "outputs": [],
   "source": [
    "# Convertir ambos Ids a string para asegurarse de que coincidan\n",
    "movies['id'] = movies['id'].astype(str)\n",
    "credits['id'] = credits['id'].astype(str)\n",
    "\n",
    "# Filtrar registros de 'credits' que estén en 'movies'\n",
    "credits_filtrado = credits[credits['id'].isin(movies['id'])]\n",
    "\n",
    "# Reemplazar el dataset original por el filtrado, si es necesario\n",
    "credits = credits_filtrado"
   ]
  },
  {
   "cell_type": "markdown",
   "metadata": {},
   "source": [
    "4. **Eliminar los duplicados de `credits`**"
   ]
  },
  {
   "cell_type": "code",
   "execution_count": 14,
   "metadata": {},
   "outputs": [],
   "source": [
    "# Convertir listas y otros tipos no hasheables a cadenas para encontrar duplicados\n",
    "for col in ['actors', 'director_name', 'cast', 'crew']:\n",
    "    credits[col] = credits[col].astype(str)\n",
    "\n",
    "# Eliminar duplicados en credits considerando todas las columnas\n",
    "credits = credits.drop_duplicates()"
   ]
  },
  {
   "cell_type": "markdown",
   "metadata": {},
   "source": [
    "5. **Crear y guardar un Dataset Reducido**:"
   ]
  },
  {
   "cell_type": "code",
   "execution_count": 15,
   "metadata": {},
   "outputs": [],
   "source": [
    "# Crear un nuevo DataFrame reducido\n",
    "reduced_credits = credits[['id', 'director_name', 'actors']]\n",
    "\n",
    "# Guardar el dataset reducido\n",
    "reduced_credits.to_csv(r'../Datasets/reduced_credits.csv', index=False)"
   ]
  }
 ],
 "metadata": {
  "kernelspec": {
   "display_name": "Python 3",
   "language": "python",
   "name": "python3"
  },
  "language_info": {
   "codemirror_mode": {
    "name": "ipython",
    "version": 3
   },
   "file_extension": ".py",
   "mimetype": "text/x-python",
   "name": "python",
   "nbconvert_exporter": "python",
   "pygments_lexer": "ipython3",
   "version": "3.13.1"
  }
 },
 "nbformat": 4,
 "nbformat_minor": 2
}

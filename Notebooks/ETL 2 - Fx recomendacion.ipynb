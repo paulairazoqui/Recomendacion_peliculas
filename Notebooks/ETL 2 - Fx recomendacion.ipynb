{
 "cells": [
  {
   "cell_type": "markdown",
   "metadata": {},
   "source": [
    "# **ETL 2 - Para la función `recomendacion`**\n",
    "\n",
    "se cargan las librerias necesarias"
   ]
  },
  {
   "cell_type": "code",
   "execution_count": 1,
   "metadata": {},
   "outputs": [],
   "source": [
    "import pandas as pd # type: ignore\n",
    "import numpy as np # type: ignore\n",
    "from sklearn.preprocessing import MultiLabelBinarizer, LabelEncoder, MinMaxScaler # type: ignore\n",
    "import ast"
   ]
  },
  {
   "cell_type": "markdown",
   "metadata": {},
   "source": [
    "1. **Carga del Dataset**:"
   ]
  },
  {
   "cell_type": "code",
   "execution_count": 2,
   "metadata": {},
   "outputs": [],
   "source": [
    "# Cargar solo los datos necesarios\n",
    "movies = pd.read_csv(r'../Datasets/transformed_movies.csv')\n",
    "movies_reduced = movies[['title', 'popularity', 'collection', 'genres_encoded']].copy()"
   ]
  },
  {
   "cell_type": "markdown",
   "metadata": {},
   "source": [
    "2. **Relleno de Valores Nulos en `collection`**:"
   ]
  },
  {
   "cell_type": "code",
   "execution_count": 3,
   "metadata": {},
   "outputs": [],
   "source": [
    "# Rellenar valores nulos en la columna de colecciones\n",
    "movies_reduced['collection'] = movies_reduced['collection'].fillna('No Collection')"
   ]
  },
  {
   "cell_type": "markdown",
   "metadata": {},
   "source": [
    "3. **Validación de Géneros (`genres_encoded`)**:"
   ]
  },
  {
   "cell_type": "code",
   "execution_count": 4,
   "metadata": {},
   "outputs": [],
   "source": [
    "# Asegurarse de que los géneros estén en formato de lista\n",
    "def process_genres(genre_str):\n",
    "    try:\n",
    "        return ast.literal_eval(genre_str)\n",
    "    except ValueError:\n",
    "        return None  # Devolver None si hay un error"
   ]
  },
  {
   "cell_type": "code",
   "execution_count": 5,
   "metadata": {},
   "outputs": [],
   "source": [
    "# Aplicar la función y eliminar registros donde genres_encoded es inválido\n",
    "movies_reduced['genres_encoded'] = movies_reduced['genres_encoded'].apply(process_genres)"
   ]
  },
  {
   "cell_type": "code",
   "execution_count": 6,
   "metadata": {},
   "outputs": [],
   "source": [
    "# Eliminar filas con valores None en 'genres_encoded'\n",
    "movies_reduced = movies_reduced[\n",
    "    movies_reduced['genres_encoded'].notna() & \n",
    "    (movies_reduced['genres_encoded'].apply(len) > 0)\n",
    "]"
   ]
  },
  {
   "cell_type": "markdown",
   "metadata": {},
   "source": [
    "#### **Transformaciones**\n",
    "\n",
    "1. **Codificación Binaria de `generos`**:"
   ]
  },
  {
   "cell_type": "code",
   "execution_count": 7,
   "metadata": {},
   "outputs": [],
   "source": [
    "# Procesar géneros usando MultiLabelBinarizer\n",
    "mlb = MultiLabelBinarizer()\n",
    "genres_matrix = mlb.fit_transform(movies_reduced['genres_encoded'])\n",
    "movies_features = pd.DataFrame(genres_matrix, columns=mlb.classes_)"
   ]
  },
  {
   "cell_type": "markdown",
   "metadata": {},
   "source": [
    "2. **Codificar y Escalar `colecciones`**:"
   ]
  },
  {
   "cell_type": "code",
   "execution_count": 8,
   "metadata": {},
   "outputs": [],
   "source": [
    "# Procesar colecciones usando LabelEncoder\n",
    "le = LabelEncoder()\n",
    "movies_reduced['collection_encoded'] = le.fit_transform(movies_reduced['collection'])\n",
    "\n",
    "# Asignar 0 a las películas sin colección (\"No Collection\")\n",
    "movies_reduced.loc[movies_reduced['collection'] == 'No Collection', 'collection_encoded'] = 0\n",
    "\n",
    "# Escalar las colecciones a un rango entre 0 y 1 usando MinMaxScaler\n",
    "scaler = MinMaxScaler()\n",
    "movies_reduced['collection_encoded_scaled'] = scaler.fit_transform(movies_reduced[['collection_encoded']])\n",
    "\n",
    "# Combinar características: géneros y colecciones escaladas\n",
    "movies_features['collection_scaled'] = movies_reduced['collection_encoded_scaled'].values"
   ]
  },
  {
   "cell_type": "markdown",
   "metadata": {},
   "source": [
    "3. **Agregar y normalizar de `popularidad`**:"
   ]
  },
  {
   "cell_type": "code",
   "execution_count": 9,
   "metadata": {},
   "outputs": [],
   "source": [
    "# Agregar la popularidad original a movies_features\n",
    "movies_features['popularity'] = movies_reduced['popularity'].values\n",
    "\n",
    "# Normalizar la popularidad dentro de movies_features\n",
    "scaler = MinMaxScaler()\n",
    "movies_features['popularity_scaled'] = scaler.fit_transform(movies_features[['popularity']])\n",
    "\n",
    "# Eliminar la columna original de popularidad\n",
    "movies_features.drop(columns=['popularity'], inplace=True)"
   ]
  },
  {
   "cell_type": "markdown",
   "metadata": {},
   "source": [
    "4. **Guardar el dataset y la matriz para la funcion `recomendacion`**"
   ]
  },
  {
   "cell_type": "code",
   "execution_count": 10,
   "metadata": {},
   "outputs": [],
   "source": [
    "# Guardar la matriz combinada en un archivo comprimido\n",
    "np.savez_compressed(\"../Datasets/movies_features.npz\", movies_features.values)\n",
    "\n",
    "# Guardar el DataFrame reducido como CSV\n",
    "movies_reduced[['title', 'popularity', 'collection', 'genres_encoded']].to_csv(r'../Datasets/movies_reduced.csv', index=False)"
   ]
  }
 ],
 "metadata": {
  "kernelspec": {
   "display_name": "Python 3",
   "language": "python",
   "name": "python3"
  },
  "language_info": {
   "codemirror_mode": {
    "name": "ipython",
    "version": 3
   },
   "file_extension": ".py",
   "mimetype": "text/x-python",
   "name": "python",
   "nbconvert_exporter": "python",
   "pygments_lexer": "ipython3",
   "version": "3.13.1"
  }
 },
 "nbformat": 4,
 "nbformat_minor": 2
}

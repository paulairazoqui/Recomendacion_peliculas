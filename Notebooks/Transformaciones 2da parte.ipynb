{
 "cells": [
  {
   "cell_type": "code",
   "execution_count": 9,
   "metadata": {},
   "outputs": [],
   "source": [
    "import pandas as pd\n",
    "import numpy as np\n",
    "from sklearn.preprocessing import StandardScaler, MultiLabelBinarizer, LabelEncoder, MinMaxScaler\n",
    "import ast"
   ]
  },
  {
   "cell_type": "code",
   "execution_count": 11,
   "metadata": {},
   "outputs": [
    {
     "name": "stdout",
     "output_type": "stream",
     "text": [
      "   0  1  2  3  4  5  6  7  8  9  ...  12  13  14  15  16  17  18  19  \\\n",
      "0  0  0  1  1  0  0  0  1  0  0  ...   0   0   0   0   0   0   0   0   \n",
      "1  0  1  0  0  0  0  0  1  1  0  ...   0   0   0   0   0   0   0   0   \n",
      "2  0  0  0  1  0  0  0  0  0  0  ...   0   0   1   0   0   0   0   0   \n",
      "3  0  0  0  1  0  0  1  0  0  0  ...   0   0   1   0   0   0   0   0   \n",
      "4  0  0  0  1  0  0  0  0  0  0  ...   0   0   0   0   0   0   0   0   \n",
      "\n",
      "   collection_scaled  popularity_scaled  \n",
      "0           0.912992           0.040087  \n",
      "1           0.000000           0.031079  \n",
      "2           0.311085           0.021394  \n",
      "3           0.000000           0.007049  \n",
      "4           0.254470           0.015320  \n",
      "\n",
      "[5 rows x 22 columns]\n"
     ]
    }
   ],
   "source": [
    "# Cargar solo los datos necesarios\n",
    "movies = pd.read_csv(r'../Datasets/transformed_movies.csv')\n",
    "movies_reduced = movies[['title', 'popularity', 'collection', 'genres_encoded']].copy()\n",
    "\n",
    "# Rellenar valores nulos en la columna de colecciones\n",
    "movies_reduced['collection'] = movies_reduced['collection'].fillna('No Collection')\n",
    "\n",
    "# Asegurarse de que los géneros estén en formato de lista\n",
    "def process_genres(genre_str):\n",
    "    try:\n",
    "        return ast.literal_eval(genre_str)\n",
    "    except ValueError:\n",
    "        return None  # Devolver None si hay un error\n",
    "\n",
    "# Aplicar la función y eliminar registros donde genres_encoded es inválido\n",
    "movies_reduced['genres_encoded'] = movies_reduced['genres_encoded'].apply(process_genres)\n",
    "\n",
    "# Eliminar filas con valores None en 'genres_encoded'\n",
    "movies_reduced = movies_reduced[\n",
    "    movies_reduced['genres_encoded'].notna() & \n",
    "    (movies_reduced['genres_encoded'].apply(len) > 0)\n",
    "]\n",
    "\n",
    "# Procesar géneros usando MultiLabelBinarizer\n",
    "mlb = MultiLabelBinarizer()\n",
    "genres_matrix = mlb.fit_transform(movies_reduced['genres_encoded'])\n",
    "movies_features = pd.DataFrame(genres_matrix, columns=mlb.classes_)\n",
    "\n",
    "# Procesar colecciones usando LabelEncoder\n",
    "le = LabelEncoder()\n",
    "movies_reduced['collection_encoded'] = le.fit_transform(movies_reduced['collection'])\n",
    "\n",
    "# Asignar 0 a las películas sin colección (\"No Collection\")\n",
    "movies_reduced.loc[movies_reduced['collection'] == 'No Collection', 'collection_encoded'] = 0\n",
    "\n",
    "# Escalar las colecciones a un rango entre 0 y 1 usando MinMaxScaler\n",
    "scaler = MinMaxScaler()\n",
    "movies_reduced['collection_encoded_scaled'] = scaler.fit_transform(movies_reduced[['collection_encoded']])\n",
    "\n",
    "# Combinar características: géneros y colecciones escaladas\n",
    "movies_features['collection_scaled'] = movies_reduced['collection_encoded_scaled'].values\n",
    "\n",
    "# Agregar la popularidad original a movies_features\n",
    "movies_features['popularity'] = movies_reduced['popularity'].values\n",
    "\n",
    "# Normalizar la popularidad dentro de movies_features\n",
    "scaler = MinMaxScaler()\n",
    "movies_features['popularity_scaled'] = scaler.fit_transform(movies_features[['popularity']])\n",
    "\n",
    "# Eliminar la columna original de popularidad\n",
    "movies_features.drop(columns=['popularity'], inplace=True)\n",
    "\n",
    "# Verificar el resultado\n",
    "print(movies_features.head())"
   ]
  },
  {
   "cell_type": "code",
   "execution_count": 12,
   "metadata": {},
   "outputs": [],
   "source": [
    "# Guardar la matriz combinada en un archivo comprimido\n",
    "np.savez_compressed(\"../Datasets/movies_features.npz\", movies_features.values)\n",
    "\n",
    "# Guardar el DataFrame reducido como CSV\n",
    "movies_reduced[['title', 'popularity', 'collection', 'genres_encoded']].to_csv(r'../Datasets/movies_reduced.csv', index=False)"
   ]
  }
 ],
 "metadata": {
  "kernelspec": {
   "display_name": "Python 3",
   "language": "python",
   "name": "python3"
  },
  "language_info": {
   "codemirror_mode": {
    "name": "ipython",
    "version": 3
   },
   "file_extension": ".py",
   "mimetype": "text/x-python",
   "name": "python",
   "nbconvert_exporter": "python",
   "pygments_lexer": "ipython3",
   "version": "3.10.5"
  }
 },
 "nbformat": 4,
 "nbformat_minor": 2
}

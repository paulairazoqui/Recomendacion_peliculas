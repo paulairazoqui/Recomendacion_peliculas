{
 "cells": [
  {
   "cell_type": "code",
   "execution_count": 14,
   "metadata": {},
   "outputs": [],
   "source": [
    "import pandas as pd\n",
    "import numpy as np\n",
    "from sklearn.preprocessing import StandardScaler, MultiLabelBinarizer, LabelEncoder\n",
    "from sklearn.metrics.pairwise import cosine_similarity\n",
    "import ast"
   ]
  },
  {
   "cell_type": "code",
   "execution_count": null,
   "metadata": {},
   "outputs": [
    {
     "name": "stdout",
     "output_type": "stream",
     "text": [
      "Dimensiones finales de las características: (45376, 22)\n",
      "Archivos generados exitosamente.\n"
     ]
    }
   ],
   "source": [
    "# Cargar solo los datos necesarios\n",
    "movies = pd.read_csv(r'Datasets/transformed_movies.csv')\n",
    "movies_reduced = movies[['title', 'popularity', 'collection', 'genres_encoded']].copy()\n",
    "\n",
    "# Rellenar valores nulos en la columna de colecciones\n",
    "movies_reduced['collection'] = movies_reduced['collection'].fillna('No Collection')\n",
    "\n",
    "# Asegurarse de que los géneros estén en formato de lista\n",
    "def process_genres(genre_str):\n",
    "    try:\n",
    "        return ast.literal_eval(genre_str)\n",
    "    except ValueError:\n",
    "        return []\n",
    "\n",
    "movies_reduced['genres_encoded'] = movies_reduced['genres_encoded'].apply(process_genres)\n",
    "\n",
    "# Procesar géneros usando MultiLabelBinarizer\n",
    "mlb = MultiLabelBinarizer()\n",
    "genres_matrix = mlb.fit_transform(movies_reduced['genres_encoded'])\n",
    "movies_features = pd.DataFrame(genres_matrix, columns=mlb.classes_)\n",
    "\n",
    "# Procesar colecciones como una sola variable escalada\n",
    "collection_counts = movies_reduced['collection'].value_counts()\n",
    "movies_reduced['collection_weighted'] = movies_reduced['collection'].map(collection_counts).fillna(0)\n",
    "\n",
    "scaler = StandardScaler()\n",
    "movies_reduced['collection_weighted_scaled'] = scaler.fit_transform(movies_reduced[['collection_weighted']])\n",
    "\n",
    "# Combinar características: géneros y colecciones escaladas\n",
    "movies_features['collection_scaled'] = movies_reduced['collection_weighted_scaled'].values\n",
    "\n",
    "# Agregar popularidad como una característica más\n",
    "movies_features['popularity'] = movies_reduced['popularity'].values\n",
    "\n",
    "# Guardar la matriz combinada en un archivo comprimido\n",
    "np.savez_compressed(\"Datasets/muestra_combined_features.npz\", movies_features.values)\n",
    "\n",
    "# Guardar el DataFrame reducido como CSV\n",
    "movies_reduced[['title', 'popularity', 'collection', 'genres_encoded']].to_csv(r'Datasets/movies_reduced.csv', index=False)\n",
    "\n"
   ]
  }
 ],
 "metadata": {
  "kernelspec": {
   "display_name": "Python 3",
   "language": "python",
   "name": "python3"
  },
  "language_info": {
   "codemirror_mode": {
    "name": "ipython",
    "version": 3
   },
   "file_extension": ".py",
   "mimetype": "text/x-python",
   "name": "python",
   "nbconvert_exporter": "python",
   "pygments_lexer": "ipython3",
   "version": "3.10.5"
  }
 },
 "nbformat": 4,
 "nbformat_minor": 2
}

{
 "cells": [
  {
   "cell_type": "code",
   "execution_count": 1,
   "metadata": {},
   "outputs": [],
   "source": [
    "import pandas as pd\n",
    "import numpy as np\n",
    "import pickle\n",
    "from sklearn.preprocessing import OneHotEncoder, StandardScaler, MultiLabelBinarizer\n",
    "from sklearn.metrics.pairwise import cosine_similarity"
   ]
  },
  {
   "cell_type": "code",
   "execution_count": 2,
   "metadata": {},
   "outputs": [],
   "source": [
    "movies = pd.read_csv(r'Datasets\\transformed_movies.csv')\n",
    "credits = pd.read_csv(r'Datasets\\reduced_credits.csv')"
   ]
  },
  {
   "cell_type": "code",
   "execution_count": 3,
   "metadata": {},
   "outputs": [],
   "source": [
    "# Crear una representación binaria de los géneros\n",
    "mlb = MultiLabelBinarizer()\n",
    "genres_matrix = mlb.fit_transform(movies['genres_encoded'])\n",
    "\n",
    "# Combinar con otras características como popularidad\n",
    "movies_features = pd.DataFrame(genres_matrix, columns=mlb.classes_)\n",
    "movies_features['popularity'] = movies['popularity']\n",
    "\n",
    "# Rellenar los valores nulos en la columna de colecciones con 'No Collection'\n",
    "movies['collection'] = movies['collection'].fillna('No Collection')\n",
    "\n",
    "# Usar OneHotEncoder para las colecciones\n",
    "ohe = OneHotEncoder(sparse_output=False, handle_unknown='ignore')\n",
    "collection_encoded = ohe.fit_transform(movies[['collection']])\n",
    "\n",
    "# Crear un DataFrame con las colecciones codificadas\n",
    "collection_df = pd.DataFrame(collection_encoded, columns=ohe.get_feature_names_out(['collection']))\n",
    "\n",
    "# Combinar con la matriz de características existente\n",
    "movies_features = pd.concat([movies_features, collection_df], axis=1)\n",
    "\n",
    "# Escalar todas las características para que las colecciones no dominen\n",
    "scaler = StandardScaler()\n",
    "movies_features_scaled = scaler.fit_transform(movies_features)\n",
    "\n",
    "# Crear un nuevo DataFrame escalado\n",
    "movies_features_scaled = pd.DataFrame(movies_features_scaled, columns=movies_features.columns)\n",
    "\n",
    "# Combinar todas las características en una sola matriz: combina géneros, popularidad y colecciones (ya procesadas con OneHotEncoding)\n",
    "combined_features = np.hstack([movies_features.values, collection_encoded])\n",
    "\n",
    "# Guardar la matriz en un archivo .npy\n",
    "np.save('Datasets/combined_features.npy', combined_features)\n"
   ]
  }
 ],
 "metadata": {
  "kernelspec": {
   "display_name": "Python 3",
   "language": "python",
   "name": "python3"
  },
  "language_info": {
   "codemirror_mode": {
    "name": "ipython",
    "version": 3
   },
   "file_extension": ".py",
   "mimetype": "text/x-python",
   "name": "python",
   "nbconvert_exporter": "python",
   "pygments_lexer": "ipython3",
   "version": "3.10.5"
  }
 },
 "nbformat": 4,
 "nbformat_minor": 2
}

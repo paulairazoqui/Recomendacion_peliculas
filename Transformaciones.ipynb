{
 "cells": [
  {
   "cell_type": "code",
   "execution_count": 5,
   "metadata": {},
   "outputs": [],
   "source": [
    "import pandas as pd\n",
    "import numpy as np\n",
    "import ast"
   ]
  },
  {
   "cell_type": "code",
   "execution_count": 6,
   "metadata": {},
   "outputs": [
    {
     "name": "stderr",
     "output_type": "stream",
     "text": [
      "C:\\Users\\paula\\AppData\\Local\\Temp\\ipykernel_18824\\724676636.py:1: DtypeWarning: Columns (10) have mixed types. Specify dtype option on import or set low_memory=False.\n",
      "  movies = pd.read_csv(r'C:\\Users\\paula\\OneDrive\\Curso\\Henry\\Proyecto Individual\\Movies\\movies_dataset.csv')\n"
     ]
    }
   ],
   "source": [
    "movies = pd.read_csv(r'C:\\Users\\paula\\OneDrive\\Curso\\Henry\\Proyecto Individual\\Movies\\movies_dataset.csv')\n",
    "credits = pd.read_csv(r'C:\\Users\\paula\\OneDrive\\Curso\\Henry\\Proyecto Individual\\Movies\\credits.csv')"
   ]
  },
  {
   "cell_type": "code",
   "execution_count": 7,
   "metadata": {},
   "outputs": [],
   "source": [
    "movies[['revenue', 'budget']] = movies[['revenue', 'budget']].fillna(0)"
   ]
  },
  {
   "cell_type": "code",
   "execution_count": 8,
   "metadata": {},
   "outputs": [],
   "source": [
    "# Asegurar que 'revenue' y 'budget' son numéricos y reemplazar nulos por 0\n",
    "movies['revenue'] = pd.to_numeric(movies['revenue'], errors='coerce').fillna(0)\n",
    "movies['budget'] = pd.to_numeric(movies['budget'], errors='coerce').fillna(0)\n",
    "\n",
    "# Calcular 'return'\n",
    "movies['return'] = np.where(movies['budget'] == 0, 0, movies['revenue'] / movies['budget'])\n",
    "\n",
    "# Reemplazar divisiones por cero o valores nulos directamente\n",
    "movies['return'] = movies['return'].replace([np.inf, np.nan], 0)\n"
   ]
  },
  {
   "cell_type": "code",
   "execution_count": 9,
   "metadata": {},
   "outputs": [],
   "source": [
    "# Convertir release_date al formato datetime y manejar errores\n",
    "movies['release_date'] = pd.to_datetime(movies['release_date'], errors='coerce')\n",
    "\n",
    "# Crear la columna release_year extrayendo el año\n",
    "movies['release_year'] = movies['release_date'].dt.year\n",
    "\n",
    "# Crear la columna release_month extrayendo el año\n",
    "movies['release_month'] = movies['release_date'].dt.month\n",
    "\n",
    "# Crear la columna release_dow extrayendo el año\n",
    "movies['release_dow'] = movies['release_date'].dt.day_of_week\n",
    "\n",
    "# Eliminar aquellos registros que quedaron nulos\n",
    "movies = movies[movies['release_year'].notnull()]"
   ]
  },
  {
   "cell_type": "code",
   "execution_count": 10,
   "metadata": {},
   "outputs": [],
   "source": [
    "movies = movies.drop(columns=['video', 'imdb_id', 'adult', 'original_title', 'poster_path', 'homepage', 'spoken_languages', 'production_countries', 'belongs_to_collection', 'genres', 'production_companies', 'original_language','tagline', 'overview', 'runtime', 'status'], errors='ignore')\n"
   ]
  },
  {
   "cell_type": "code",
   "execution_count": 11,
   "metadata": {},
   "outputs": [
    {
     "data": {
      "text/html": [
       "<div>\n",
       "<style scoped>\n",
       "    .dataframe tbody tr th:only-of-type {\n",
       "        vertical-align: middle;\n",
       "    }\n",
       "\n",
       "    .dataframe tbody tr th {\n",
       "        vertical-align: top;\n",
       "    }\n",
       "\n",
       "    .dataframe thead th {\n",
       "        text-align: right;\n",
       "    }\n",
       "</style>\n",
       "<table border=\"1\" class=\"dataframe\">\n",
       "  <thead>\n",
       "    <tr style=\"text-align: right;\">\n",
       "      <th></th>\n",
       "      <th>budget</th>\n",
       "      <th>id</th>\n",
       "      <th>popularity</th>\n",
       "      <th>release_date</th>\n",
       "      <th>revenue</th>\n",
       "      <th>title</th>\n",
       "      <th>vote_average</th>\n",
       "      <th>vote_count</th>\n",
       "      <th>return</th>\n",
       "      <th>release_year</th>\n",
       "      <th>release_month</th>\n",
       "      <th>release_dow</th>\n",
       "    </tr>\n",
       "  </thead>\n",
       "  <tbody>\n",
       "    <tr>\n",
       "      <th>0</th>\n",
       "      <td>30000000.0</td>\n",
       "      <td>862</td>\n",
       "      <td>21.946943</td>\n",
       "      <td>1995-10-30</td>\n",
       "      <td>373554033.0</td>\n",
       "      <td>Toy Story</td>\n",
       "      <td>7.7</td>\n",
       "      <td>5415.0</td>\n",
       "      <td>12.451801</td>\n",
       "      <td>1995.0</td>\n",
       "      <td>10.0</td>\n",
       "      <td>0.0</td>\n",
       "    </tr>\n",
       "    <tr>\n",
       "      <th>1</th>\n",
       "      <td>65000000.0</td>\n",
       "      <td>8844</td>\n",
       "      <td>17.015539</td>\n",
       "      <td>1995-12-15</td>\n",
       "      <td>262797249.0</td>\n",
       "      <td>Jumanji</td>\n",
       "      <td>6.9</td>\n",
       "      <td>2413.0</td>\n",
       "      <td>4.043035</td>\n",
       "      <td>1995.0</td>\n",
       "      <td>12.0</td>\n",
       "      <td>4.0</td>\n",
       "    </tr>\n",
       "    <tr>\n",
       "      <th>2</th>\n",
       "      <td>0.0</td>\n",
       "      <td>15602</td>\n",
       "      <td>11.7129</td>\n",
       "      <td>1995-12-22</td>\n",
       "      <td>0.0</td>\n",
       "      <td>Grumpier Old Men</td>\n",
       "      <td>6.5</td>\n",
       "      <td>92.0</td>\n",
       "      <td>0.000000</td>\n",
       "      <td>1995.0</td>\n",
       "      <td>12.0</td>\n",
       "      <td>4.0</td>\n",
       "    </tr>\n",
       "    <tr>\n",
       "      <th>3</th>\n",
       "      <td>16000000.0</td>\n",
       "      <td>31357</td>\n",
       "      <td>3.859495</td>\n",
       "      <td>1995-12-22</td>\n",
       "      <td>81452156.0</td>\n",
       "      <td>Waiting to Exhale</td>\n",
       "      <td>6.1</td>\n",
       "      <td>34.0</td>\n",
       "      <td>5.090760</td>\n",
       "      <td>1995.0</td>\n",
       "      <td>12.0</td>\n",
       "      <td>4.0</td>\n",
       "    </tr>\n",
       "    <tr>\n",
       "      <th>4</th>\n",
       "      <td>0.0</td>\n",
       "      <td>11862</td>\n",
       "      <td>8.387519</td>\n",
       "      <td>1995-02-10</td>\n",
       "      <td>76578911.0</td>\n",
       "      <td>Father of the Bride Part II</td>\n",
       "      <td>5.7</td>\n",
       "      <td>173.0</td>\n",
       "      <td>0.000000</td>\n",
       "      <td>1995.0</td>\n",
       "      <td>2.0</td>\n",
       "      <td>4.0</td>\n",
       "    </tr>\n",
       "  </tbody>\n",
       "</table>\n",
       "</div>"
      ],
      "text/plain": [
       "       budget     id popularity release_date      revenue  \\\n",
       "0  30000000.0    862  21.946943   1995-10-30  373554033.0   \n",
       "1  65000000.0   8844  17.015539   1995-12-15  262797249.0   \n",
       "2         0.0  15602    11.7129   1995-12-22          0.0   \n",
       "3  16000000.0  31357   3.859495   1995-12-22   81452156.0   \n",
       "4         0.0  11862   8.387519   1995-02-10   76578911.0   \n",
       "\n",
       "                         title  vote_average  vote_count     return  \\\n",
       "0                    Toy Story           7.7      5415.0  12.451801   \n",
       "1                      Jumanji           6.9      2413.0   4.043035   \n",
       "2             Grumpier Old Men           6.5        92.0   0.000000   \n",
       "3            Waiting to Exhale           6.1        34.0   5.090760   \n",
       "4  Father of the Bride Part II           5.7       173.0   0.000000   \n",
       "\n",
       "   release_year  release_month  release_dow  \n",
       "0        1995.0           10.0          0.0  \n",
       "1        1995.0           12.0          4.0  \n",
       "2        1995.0           12.0          4.0  \n",
       "3        1995.0           12.0          4.0  \n",
       "4        1995.0            2.0          4.0  "
      ]
     },
     "execution_count": 11,
     "metadata": {},
     "output_type": "execute_result"
    }
   ],
   "source": [
    "movies.head()"
   ]
  },
  {
   "cell_type": "code",
   "execution_count": 12,
   "metadata": {},
   "outputs": [],
   "source": [
    "movies['popularity'] = pd.to_numeric(movies['popularity'], errors='coerce')\n"
   ]
  },
  {
   "cell_type": "code",
   "execution_count": null,
   "metadata": {},
   "outputs": [],
   "source": [
    "# Guardar el dataset transformado\n",
    "movies.to_csv(r'Datasets/transformed_movies.csv', index=False)"
   ]
  },
  {
   "cell_type": "code",
   "execution_count": 19,
   "metadata": {},
   "outputs": [],
   "source": [
    "# Convertir la columna `crew` en listas de diccionarios\n",
    "credits['crew'] = credits['crew'].apply(lambda x: ast.literal_eval(x) if isinstance(x, str) else x)\n",
    "\n",
    "# Extraer el nombre de los directores\n",
    "credits['director_name'] = credits['crew'].apply(\n",
    "    lambda x: next((person['name'] for person in x if person.get('job') == 'Director'), None)\n",
    ")\n",
    "\n",
    "# Asegurarse de que la columna `cast` se convierta en listas de diccionarios\n",
    "credits['cast'] = credits['cast'].apply(lambda x: ast.literal_eval(x) if isinstance(x, str) else x)\n",
    "\n",
    "# Extraer los nombres de todos los actores\n",
    "credits['actors'] = credits['cast'].apply(\n",
    "    lambda x: [actor['name'] for actor in x] if isinstance(x, list) else []\n",
    ")\n",
    "\n",
    "# Crear un nuevo DataFrame reducido\n",
    "reduced_credits = credits[['id', 'director_name', 'actors']]\n",
    "\n",
    "# Guardar el dataset reducido\n",
    "reduced_credits.to_csv(r'Datasets/reduced_credits1.csv', index=False)"
   ]
  },
  {
   "cell_type": "code",
   "execution_count": null,
   "metadata": {},
   "outputs": [],
   "source": []
  }
 ],
 "metadata": {
  "kernelspec": {
   "display_name": "Python 3",
   "language": "python",
   "name": "python3"
  },
  "language_info": {
   "codemirror_mode": {
    "name": "ipython",
    "version": 3
   },
   "file_extension": ".py",
   "mimetype": "text/x-python",
   "name": "python",
   "nbconvert_exporter": "python",
   "pygments_lexer": "ipython3",
   "version": "3.10.5"
  }
 },
 "nbformat": 4,
 "nbformat_minor": 2
}
